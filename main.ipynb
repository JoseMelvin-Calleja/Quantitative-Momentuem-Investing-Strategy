{
 "cells": [
  {
   "cell_type": "markdown",
   "metadata": {},
   "source": [
    "# Importing Dependencies"
   ]
  },
  {
   "cell_type": "code",
   "execution_count": 1,
   "metadata": {},
   "outputs": [],
   "source": [
    "import pandas as pd\n",
    "import numpy as np\n",
    "import xlsxwriter\n",
    "import math\n",
    "import pandas_datareader.data as web\n",
    "import schwabdev\n",
    "from scipy import stats\n",
    "from datetime import datetime\n",
    "from dateutil.relativedelta import relativedelta\n",
    "%matplotlib inline"
   ]
  },
  {
   "cell_type": "markdown",
   "metadata": {},
   "source": [
    "# Momentum Investing\n",
    "- the strategy in investing in the stocks that increased in price the most"
   ]
  },
  {
   "cell_type": "markdown",
   "metadata": {},
   "source": [
    "# Collecting S&P 500 constituents"
   ]
  },
  {
   "cell_type": "code",
   "execution_count": 2,
   "metadata": {},
   "outputs": [],
   "source": [
    "sp_url = 'https://en.wikipedia.org/wiki/List_of_S%26P_500_companies'\n",
    "sp500_constituents = pd.read_html(sp_url, header=0)[0]"
   ]
  },
  {
   "cell_type": "code",
   "execution_count": 3,
   "metadata": {},
   "outputs": [
    {
     "name": "stdout",
     "output_type": "stream",
     "text": [
      "<class 'pandas.core.frame.DataFrame'>\n",
      "RangeIndex: 503 entries, 0 to 502\n",
      "Data columns (total 8 columns):\n",
      " #   Column                 Non-Null Count  Dtype \n",
      "---  ------                 --------------  ----- \n",
      " 0   Symbol                 503 non-null    object\n",
      " 1   Security               503 non-null    object\n",
      " 2   GICS Sector            503 non-null    object\n",
      " 3   GICS Sub-Industry      503 non-null    object\n",
      " 4   Headquarters Location  503 non-null    object\n",
      " 5   Date added             503 non-null    object\n",
      " 6   CIK                    503 non-null    int64 \n",
      " 7   Founded                503 non-null    object\n",
      "dtypes: int64(1), object(7)\n",
      "memory usage: 31.6+ KB\n"
     ]
    }
   ],
   "source": [
    "sp500_constituents.info()"
   ]
  },
  {
   "cell_type": "code",
   "execution_count": 4,
   "metadata": {},
   "outputs": [],
   "source": [
    "sp500_constituents = sp500_constituents['Symbol'].to_list()"
   ]
  },
  {
   "cell_type": "markdown",
   "metadata": {},
   "source": [
    "### changing format to match Schwab's"
   ]
  },
  {
   "cell_type": "code",
   "execution_count": 5,
   "metadata": {},
   "outputs": [],
   "source": [
    "sp500_constituents = [x.replace('.', '/') for x in sp500_constituents]"
   ]
  },
  {
   "cell_type": "markdown",
   "metadata": {},
   "source": [
    "# Setting up Schwab API"
   ]
  },
  {
   "cell_type": "code",
   "execution_count": 6,
   "metadata": {},
   "outputs": [],
   "source": [
    "from key import api_key, api_secret"
   ]
  },
  {
   "cell_type": "code",
   "execution_count": 7,
   "metadata": {},
   "outputs": [],
   "source": [
    "client = schwabdev.Client(app_key=api_key, app_secret=api_secret, capture_callback=False)"
   ]
  },
  {
   "cell_type": "markdown",
   "metadata": {},
   "source": [
    "# Creating Datafram\n",
    "- Basing this strategy in a 6 month change"
   ]
  },
  {
   "cell_type": "code",
   "execution_count": 8,
   "metadata": {},
   "outputs": [],
   "source": [
    "my_columns = ['Ticker', 'Price (6 months)', 'Price (now)', 'Net Change', 'Number of Shares to Buy']"
   ]
  },
  {
   "cell_type": "code",
   "execution_count": 9,
   "metadata": {},
   "outputs": [],
   "source": [
    "today = datetime.today()\n",
    "six_months = today - relativedelta(months = 6)"
   ]
  },
  {
   "cell_type": "code",
   "execution_count": 10,
   "metadata": {},
   "outputs": [],
   "source": [
    "entries = []\n",
    "for symbol in sp500_constituents:\n",
    "    price_history = client.price_history(symbol, periodType='month', period = 6, startDate=six_months, endDate=today).json()\n",
    "    price_now = price_history['candles'][-1]['close']\n",
    "    price_6_months = price_history['candles'][0]['close']\n",
    "    net_change = round(((price_now - price_6_months)/ price_6_months) * 100, 2)\n",
    "    entries.append(\n",
    "        [\n",
    "            symbol,\n",
    "            price_6_months,\n",
    "            price_now,\n",
    "            net_change,\n",
    "            'N/a'\n",
    "        ]\n",
    "    )"
   ]
  },
  {
   "cell_type": "code",
   "execution_count": 11,
   "metadata": {},
   "outputs": [],
   "source": [
    "momentum_df = pd.DataFrame(entries, columns=my_columns)"
   ]
  },
  {
   "cell_type": "markdown",
   "metadata": {},
   "source": [
    "### Sorting by biggest increases"
   ]
  },
  {
   "cell_type": "code",
   "execution_count": 12,
   "metadata": {},
   "outputs": [],
   "source": [
    "momentum_df.sort_values(by='Net Change', ascending=False, inplace=True)"
   ]
  },
  {
   "cell_type": "code",
   "execution_count": 13,
   "metadata": {},
   "outputs": [
    {
     "data": {
      "text/html": [
       "<div>\n",
       "<style scoped>\n",
       "    .dataframe tbody tr th:only-of-type {\n",
       "        vertical-align: middle;\n",
       "    }\n",
       "\n",
       "    .dataframe tbody tr th {\n",
       "        vertical-align: top;\n",
       "    }\n",
       "\n",
       "    .dataframe thead th {\n",
       "        text-align: right;\n",
       "    }\n",
       "</style>\n",
       "<table border=\"1\" class=\"dataframe\">\n",
       "  <thead>\n",
       "    <tr style=\"text-align: right;\">\n",
       "      <th></th>\n",
       "      <th>Ticker</th>\n",
       "      <th>Price (6 months)</th>\n",
       "      <th>Price (now)</th>\n",
       "      <th>Net Change</th>\n",
       "      <th>Number of Shares to Buy</th>\n",
       "    </tr>\n",
       "  </thead>\n",
       "  <tbody>\n",
       "    <tr>\n",
       "      <th>360</th>\n",
       "      <td>PLTR</td>\n",
       "      <td>44.86</td>\n",
       "      <td>93.40</td>\n",
       "      <td>108.20</td>\n",
       "      <td>N/a</td>\n",
       "    </tr>\n",
       "    <tr>\n",
       "      <th>308</th>\n",
       "      <td>MCK</td>\n",
       "      <td>507.41</td>\n",
       "      <td>700.70</td>\n",
       "      <td>38.09</td>\n",
       "      <td>N/a</td>\n",
       "    </tr>\n",
       "    <tr>\n",
       "      <th>171</th>\n",
       "      <td>EQT</td>\n",
       "      <td>37.48</td>\n",
       "      <td>51.61</td>\n",
       "      <td>37.70</td>\n",
       "      <td>N/a</td>\n",
       "    </tr>\n",
       "    <tr>\n",
       "      <th>468</th>\n",
       "      <td>VRSN</td>\n",
       "      <td>181.26</td>\n",
       "      <td>247.07</td>\n",
       "      <td>36.31</td>\n",
       "      <td>N/a</td>\n",
       "    </tr>\n",
       "    <tr>\n",
       "      <th>433</th>\n",
       "      <td>TTWO</td>\n",
       "      <td>161.79</td>\n",
       "      <td>214.44</td>\n",
       "      <td>32.54</td>\n",
       "      <td>N/a</td>\n",
       "    </tr>\n",
       "  </tbody>\n",
       "</table>\n",
       "</div>"
      ],
      "text/plain": [
       "    Ticker  Price (6 months)  Price (now)  Net Change Number of Shares to Buy\n",
       "360   PLTR             44.86        93.40      108.20                     N/a\n",
       "308    MCK            507.41       700.70       38.09                     N/a\n",
       "171    EQT             37.48        51.61       37.70                     N/a\n",
       "468   VRSN            181.26       247.07       36.31                     N/a\n",
       "433   TTWO            161.79       214.44       32.54                     N/a"
      ]
     },
     "execution_count": 13,
     "metadata": {},
     "output_type": "execute_result"
    }
   ],
   "source": [
    "momentum_df.head()"
   ]
  },
  {
   "cell_type": "markdown",
   "metadata": {},
   "source": [
    "# Creating Excel Output with all data"
   ]
  },
  {
   "cell_type": "code",
   "execution_count": 14,
   "metadata": {},
   "outputs": [],
   "source": [
    "momentum_df_copy = momentum_df.copy()"
   ]
  },
  {
   "cell_type": "code",
   "execution_count": 15,
   "metadata": {},
   "outputs": [
    {
     "data": {
      "text/html": [
       "<div>\n",
       "<style scoped>\n",
       "    .dataframe tbody tr th:only-of-type {\n",
       "        vertical-align: middle;\n",
       "    }\n",
       "\n",
       "    .dataframe tbody tr th {\n",
       "        vertical-align: top;\n",
       "    }\n",
       "\n",
       "    .dataframe thead th {\n",
       "        text-align: right;\n",
       "    }\n",
       "</style>\n",
       "<table border=\"1\" class=\"dataframe\">\n",
       "  <thead>\n",
       "    <tr style=\"text-align: right;\">\n",
       "      <th></th>\n",
       "      <th>Ticker</th>\n",
       "      <th>Price (6 months)</th>\n",
       "      <th>Price (now)</th>\n",
       "      <th>Net Change</th>\n",
       "    </tr>\n",
       "  </thead>\n",
       "  <tbody>\n",
       "    <tr>\n",
       "      <th>360</th>\n",
       "      <td>PLTR</td>\n",
       "      <td>44.86</td>\n",
       "      <td>93.40</td>\n",
       "      <td>108.20</td>\n",
       "    </tr>\n",
       "    <tr>\n",
       "      <th>308</th>\n",
       "      <td>MCK</td>\n",
       "      <td>507.41</td>\n",
       "      <td>700.70</td>\n",
       "      <td>38.09</td>\n",
       "    </tr>\n",
       "    <tr>\n",
       "      <th>171</th>\n",
       "      <td>EQT</td>\n",
       "      <td>37.48</td>\n",
       "      <td>51.61</td>\n",
       "      <td>37.70</td>\n",
       "    </tr>\n",
       "    <tr>\n",
       "      <th>468</th>\n",
       "      <td>VRSN</td>\n",
       "      <td>181.26</td>\n",
       "      <td>247.07</td>\n",
       "      <td>36.31</td>\n",
       "    </tr>\n",
       "    <tr>\n",
       "      <th>433</th>\n",
       "      <td>TTWO</td>\n",
       "      <td>161.79</td>\n",
       "      <td>214.44</td>\n",
       "      <td>32.54</td>\n",
       "    </tr>\n",
       "  </tbody>\n",
       "</table>\n",
       "</div>"
      ],
      "text/plain": [
       "    Ticker  Price (6 months)  Price (now)  Net Change\n",
       "360   PLTR             44.86        93.40      108.20\n",
       "308    MCK            507.41       700.70       38.09\n",
       "171    EQT             37.48        51.61       37.70\n",
       "468   VRSN            181.26       247.07       36.31\n",
       "433   TTWO            161.79       214.44       32.54"
      ]
     },
     "execution_count": 15,
     "metadata": {},
     "output_type": "execute_result"
    }
   ],
   "source": [
    "momentum_df_copy = momentum_df_copy.drop('Number of Shares to Buy', axis=1)\n",
    "momentum_df_copy.head()"
   ]
  },
  {
   "cell_type": "code",
   "execution_count": 40,
   "metadata": {},
   "outputs": [],
   "source": [
    "writer = pd.ExcelWriter('total_data.xlsx', engine='xlsxwriter')\n",
    "\n",
    "momentum_df_copy.to_excel(writer, sheet_name='Movers', index=False)"
   ]
  },
  {
   "cell_type": "markdown",
   "metadata": {},
   "source": [
    "### Formatting"
   ]
  },
  {
   "cell_type": "code",
   "execution_count": 41,
   "metadata": {},
   "outputs": [],
   "source": [
    "background_color = '#0a0a23'\n",
    "font_color = '#ffffff'\n",
    "\n",
    "string_format = writer.book.add_format(\n",
    "    {\n",
    "        'font_color': font_color,\n",
    "        'bg_color': background_color,\n",
    "        'border': 1\n",
    "    }\n",
    ")"
   ]
  },
  {
   "cell_type": "code",
   "execution_count": 42,
   "metadata": {},
   "outputs": [],
   "source": [
    "dollar_format = writer.book.add_format(\n",
    "    {\n",
    "        'num_format': '$0.00',\n",
    "        'font_color': font_color,\n",
    "        'bg_color': background_color,\n",
    "        'border': 1\n",
    "    }\n",
    ")"
   ]
  },
  {
   "cell_type": "code",
   "execution_count": 43,
   "metadata": {},
   "outputs": [],
   "source": [
    "percent_format = writer.book.add_format(\n",
    "    {\n",
    "        'num_format': '0.00%',\n",
    "        'font_color': font_color,\n",
    "        'bg_color': background_color,\n",
    "        'border': 1\n",
    "    }\n",
    ")"
   ]
  },
  {
   "cell_type": "markdown",
   "metadata": {},
   "source": [
    "### Applying Formats"
   ]
  },
  {
   "cell_type": "code",
   "execution_count": 44,
   "metadata": {},
   "outputs": [],
   "source": [
    "column_formats = {\n",
    "    'A': ['Ticker', string_format],\n",
    "    'B': ['Price (6 months)', dollar_format],\n",
    "    'C': ['Price (now)', dollar_format],\n",
    "    'D': ['Net Change', percent_format]\n",
    "}"
   ]
  },
  {
   "cell_type": "code",
   "execution_count": 45,
   "metadata": {},
   "outputs": [],
   "source": [
    "for column in column_formats.keys():\n",
    "    writer.sheets['Movers'].set_column(f'{column}:{column}', 20, column_formats[column][1])\n",
    "    writer.sheets['Movers'].write(f'{column}1', column_formats[column][0], column_formats[column][1])\n",
    "    "
   ]
  },
  {
   "cell_type": "code",
   "execution_count": 46,
   "metadata": {},
   "outputs": [],
   "source": [
    "writer.close()"
   ]
  },
  {
   "cell_type": "markdown",
   "metadata": {},
   "source": [
    "# Keeping Top 50 Movers"
   ]
  },
  {
   "cell_type": "code",
   "execution_count": 23,
   "metadata": {},
   "outputs": [],
   "source": [
    "final_df = momentum_df.copy()"
   ]
  },
  {
   "cell_type": "code",
   "execution_count": 24,
   "metadata": {},
   "outputs": [
    {
     "name": "stdout",
     "output_type": "stream",
     "text": [
      "<class 'pandas.core.frame.DataFrame'>\n",
      "Index: 50 entries, 360 to 334\n",
      "Data columns (total 5 columns):\n",
      " #   Column                   Non-Null Count  Dtype  \n",
      "---  ------                   --------------  -----  \n",
      " 0   Ticker                   50 non-null     object \n",
      " 1   Price (6 months)         50 non-null     float64\n",
      " 2   Price (now)              50 non-null     float64\n",
      " 3   Net Change               50 non-null     float64\n",
      " 4   Number of Shares to Buy  50 non-null     object \n",
      "dtypes: float64(3), object(2)\n",
      "memory usage: 2.3+ KB\n"
     ]
    }
   ],
   "source": [
    "final_df = final_df.head(50)\n",
    "final_df.info()\n"
   ]
  },
  {
   "cell_type": "code",
   "execution_count": 25,
   "metadata": {},
   "outputs": [
    {
     "data": {
      "text/html": [
       "<div>\n",
       "<style scoped>\n",
       "    .dataframe tbody tr th:only-of-type {\n",
       "        vertical-align: middle;\n",
       "    }\n",
       "\n",
       "    .dataframe tbody tr th {\n",
       "        vertical-align: top;\n",
       "    }\n",
       "\n",
       "    .dataframe thead th {\n",
       "        text-align: right;\n",
       "    }\n",
       "</style>\n",
       "<table border=\"1\" class=\"dataframe\">\n",
       "  <thead>\n",
       "    <tr style=\"text-align: right;\">\n",
       "      <th></th>\n",
       "      <th>Ticker</th>\n",
       "      <th>Price (6 months)</th>\n",
       "      <th>Price (now)</th>\n",
       "      <th>Net Change</th>\n",
       "      <th>Number of Shares to Buy</th>\n",
       "    </tr>\n",
       "  </thead>\n",
       "  <tbody>\n",
       "    <tr>\n",
       "      <th>0</th>\n",
       "      <td>PLTR</td>\n",
       "      <td>44.86</td>\n",
       "      <td>93.4000</td>\n",
       "      <td>108.20</td>\n",
       "      <td>N/a</td>\n",
       "    </tr>\n",
       "    <tr>\n",
       "      <th>1</th>\n",
       "      <td>MCK</td>\n",
       "      <td>507.41</td>\n",
       "      <td>700.7000</td>\n",
       "      <td>38.09</td>\n",
       "      <td>N/a</td>\n",
       "    </tr>\n",
       "    <tr>\n",
       "      <th>2</th>\n",
       "      <td>EQT</td>\n",
       "      <td>37.48</td>\n",
       "      <td>51.6100</td>\n",
       "      <td>37.70</td>\n",
       "      <td>N/a</td>\n",
       "    </tr>\n",
       "    <tr>\n",
       "      <th>3</th>\n",
       "      <td>VRSN</td>\n",
       "      <td>181.26</td>\n",
       "      <td>247.0700</td>\n",
       "      <td>36.31</td>\n",
       "      <td>N/a</td>\n",
       "    </tr>\n",
       "    <tr>\n",
       "      <th>4</th>\n",
       "      <td>TTWO</td>\n",
       "      <td>161.79</td>\n",
       "      <td>214.4400</td>\n",
       "      <td>32.54</td>\n",
       "      <td>N/a</td>\n",
       "    </tr>\n",
       "    <tr>\n",
       "      <th>5</th>\n",
       "      <td>PAYC</td>\n",
       "      <td>164.63</td>\n",
       "      <td>216.4200</td>\n",
       "      <td>31.46</td>\n",
       "      <td>N/a</td>\n",
       "    </tr>\n",
       "    <tr>\n",
       "      <th>6</th>\n",
       "      <td>NFLX</td>\n",
       "      <td>754.68</td>\n",
       "      <td>979.7050</td>\n",
       "      <td>29.82</td>\n",
       "      <td>N/a</td>\n",
       "    </tr>\n",
       "    <tr>\n",
       "      <th>7</th>\n",
       "      <td>TKO</td>\n",
       "      <td>115.25</td>\n",
       "      <td>149.2650</td>\n",
       "      <td>29.51</td>\n",
       "      <td>N/a</td>\n",
       "    </tr>\n",
       "    <tr>\n",
       "      <th>8</th>\n",
       "      <td>CNP</td>\n",
       "      <td>29.31</td>\n",
       "      <td>37.5550</td>\n",
       "      <td>28.13</td>\n",
       "      <td>N/a</td>\n",
       "    </tr>\n",
       "    <tr>\n",
       "      <th>9</th>\n",
       "      <td>DRI</td>\n",
       "      <td>159.92</td>\n",
       "      <td>202.7700</td>\n",
       "      <td>26.79</td>\n",
       "      <td>N/a</td>\n",
       "    </tr>\n",
       "    <tr>\n",
       "      <th>10</th>\n",
       "      <td>EXE</td>\n",
       "      <td>84.79</td>\n",
       "      <td>107.1400</td>\n",
       "      <td>26.36</td>\n",
       "      <td>N/a</td>\n",
       "    </tr>\n",
       "    <tr>\n",
       "      <th>11</th>\n",
       "      <td>TPR</td>\n",
       "      <td>50.49</td>\n",
       "      <td>63.7500</td>\n",
       "      <td>26.26</td>\n",
       "      <td>N/a</td>\n",
       "    </tr>\n",
       "    <tr>\n",
       "      <th>12</th>\n",
       "      <td>AXON</td>\n",
       "      <td>444.52</td>\n",
       "      <td>560.9735</td>\n",
       "      <td>26.20</td>\n",
       "      <td>N/a</td>\n",
       "    </tr>\n",
       "    <tr>\n",
       "      <th>13</th>\n",
       "      <td>CRWD</td>\n",
       "      <td>300.62</td>\n",
       "      <td>378.1600</td>\n",
       "      <td>25.79</td>\n",
       "      <td>N/a</td>\n",
       "    </tr>\n",
       "    <tr>\n",
       "      <th>14</th>\n",
       "      <td>PM</td>\n",
       "      <td>129.86</td>\n",
       "      <td>163.2450</td>\n",
       "      <td>25.71</td>\n",
       "      <td>N/a</td>\n",
       "    </tr>\n",
       "    <tr>\n",
       "      <th>15</th>\n",
       "      <td>T</td>\n",
       "      <td>21.83</td>\n",
       "      <td>27.3850</td>\n",
       "      <td>25.45</td>\n",
       "      <td>N/a</td>\n",
       "    </tr>\n",
       "    <tr>\n",
       "      <th>16</th>\n",
       "      <td>ETR</td>\n",
       "      <td>67.69</td>\n",
       "      <td>84.1500</td>\n",
       "      <td>24.32</td>\n",
       "      <td>N/a</td>\n",
       "    </tr>\n",
       "    <tr>\n",
       "      <th>17</th>\n",
       "      <td>KR</td>\n",
       "      <td>57.37</td>\n",
       "      <td>70.9950</td>\n",
       "      <td>23.75</td>\n",
       "      <td>N/a</td>\n",
       "    </tr>\n",
       "    <tr>\n",
       "      <th>18</th>\n",
       "      <td>HWM</td>\n",
       "      <td>101.39</td>\n",
       "      <td>124.7550</td>\n",
       "      <td>23.04</td>\n",
       "      <td>N/a</td>\n",
       "    </tr>\n",
       "    <tr>\n",
       "      <th>19</th>\n",
       "      <td>CAH</td>\n",
       "      <td>110.89</td>\n",
       "      <td>136.3000</td>\n",
       "      <td>22.91</td>\n",
       "      <td>N/a</td>\n",
       "    </tr>\n",
       "    <tr>\n",
       "      <th>20</th>\n",
       "      <td>COR</td>\n",
       "      <td>234.47</td>\n",
       "      <td>287.4600</td>\n",
       "      <td>22.60</td>\n",
       "      <td>N/a</td>\n",
       "    </tr>\n",
       "    <tr>\n",
       "      <th>21</th>\n",
       "      <td>RSG</td>\n",
       "      <td>199.83</td>\n",
       "      <td>244.4900</td>\n",
       "      <td>22.35</td>\n",
       "      <td>N/a</td>\n",
       "    </tr>\n",
       "    <tr>\n",
       "      <th>22</th>\n",
       "      <td>FTNT</td>\n",
       "      <td>80.34</td>\n",
       "      <td>96.7900</td>\n",
       "      <td>20.48</td>\n",
       "      <td>N/a</td>\n",
       "    </tr>\n",
       "    <tr>\n",
       "      <th>23</th>\n",
       "      <td>ROL</td>\n",
       "      <td>46.54</td>\n",
       "      <td>55.8200</td>\n",
       "      <td>19.94</td>\n",
       "      <td>N/a</td>\n",
       "    </tr>\n",
       "    <tr>\n",
       "      <th>24</th>\n",
       "      <td>WRB</td>\n",
       "      <td>57.66</td>\n",
       "      <td>69.1531</td>\n",
       "      <td>19.93</td>\n",
       "      <td>N/a</td>\n",
       "    </tr>\n",
       "    <tr>\n",
       "      <th>25</th>\n",
       "      <td>CME</td>\n",
       "      <td>220.34</td>\n",
       "      <td>264.0350</td>\n",
       "      <td>19.83</td>\n",
       "      <td>N/a</td>\n",
       "    </tr>\n",
       "    <tr>\n",
       "      <th>26</th>\n",
       "      <td>CVS</td>\n",
       "      <td>56.49</td>\n",
       "      <td>67.6600</td>\n",
       "      <td>19.77</td>\n",
       "      <td>N/a</td>\n",
       "    </tr>\n",
       "    <tr>\n",
       "      <th>27</th>\n",
       "      <td>FFIV</td>\n",
       "      <td>216.87</td>\n",
       "      <td>259.3400</td>\n",
       "      <td>19.58</td>\n",
       "      <td>N/a</td>\n",
       "    </tr>\n",
       "    <tr>\n",
       "      <th>28</th>\n",
       "      <td>EXC</td>\n",
       "      <td>40.07</td>\n",
       "      <td>47.7500</td>\n",
       "      <td>19.17</td>\n",
       "      <td>N/a</td>\n",
       "    </tr>\n",
       "    <tr>\n",
       "      <th>29</th>\n",
       "      <td>V</td>\n",
       "      <td>281.73</td>\n",
       "      <td>333.5100</td>\n",
       "      <td>18.38</td>\n",
       "      <td>N/a</td>\n",
       "    </tr>\n",
       "    <tr>\n",
       "      <th>30</th>\n",
       "      <td>DLTR</td>\n",
       "      <td>66.45</td>\n",
       "      <td>78.5800</td>\n",
       "      <td>18.25</td>\n",
       "      <td>N/a</td>\n",
       "    </tr>\n",
       "    <tr>\n",
       "      <th>31</th>\n",
       "      <td>TPL</td>\n",
       "      <td>1098.01</td>\n",
       "      <td>1297.9350</td>\n",
       "      <td>18.21</td>\n",
       "      <td>N/a</td>\n",
       "    </tr>\n",
       "    <tr>\n",
       "      <th>32</th>\n",
       "      <td>GRMN</td>\n",
       "      <td>162.30</td>\n",
       "      <td>191.7100</td>\n",
       "      <td>18.12</td>\n",
       "      <td>N/a</td>\n",
       "    </tr>\n",
       "    <tr>\n",
       "      <th>33</th>\n",
       "      <td>DASH</td>\n",
       "      <td>153.88</td>\n",
       "      <td>181.3450</td>\n",
       "      <td>17.85</td>\n",
       "      <td>N/a</td>\n",
       "    </tr>\n",
       "    <tr>\n",
       "      <th>34</th>\n",
       "      <td>FOX</td>\n",
       "      <td>38.35</td>\n",
       "      <td>45.0450</td>\n",
       "      <td>17.46</td>\n",
       "      <td>N/a</td>\n",
       "    </tr>\n",
       "    <tr>\n",
       "      <th>35</th>\n",
       "      <td>MO</td>\n",
       "      <td>49.71</td>\n",
       "      <td>58.3650</td>\n",
       "      <td>17.41</td>\n",
       "      <td>N/a</td>\n",
       "    </tr>\n",
       "    <tr>\n",
       "      <th>36</th>\n",
       "      <td>AJG</td>\n",
       "      <td>282.97</td>\n",
       "      <td>331.2450</td>\n",
       "      <td>17.06</td>\n",
       "      <td>N/a</td>\n",
       "    </tr>\n",
       "    <tr>\n",
       "      <th>37</th>\n",
       "      <td>WBA</td>\n",
       "      <td>9.26</td>\n",
       "      <td>10.8363</td>\n",
       "      <td>17.02</td>\n",
       "      <td>N/a</td>\n",
       "    </tr>\n",
       "    <tr>\n",
       "      <th>38</th>\n",
       "      <td>GILD</td>\n",
       "      <td>89.00</td>\n",
       "      <td>104.0100</td>\n",
       "      <td>16.87</td>\n",
       "      <td>N/a</td>\n",
       "    </tr>\n",
       "    <tr>\n",
       "      <th>39</th>\n",
       "      <td>TMUS</td>\n",
       "      <td>226.36</td>\n",
       "      <td>264.5000</td>\n",
       "      <td>16.85</td>\n",
       "      <td>N/a</td>\n",
       "    </tr>\n",
       "    <tr>\n",
       "      <th>40</th>\n",
       "      <td>ORLY</td>\n",
       "      <td>1195.22</td>\n",
       "      <td>1396.1666</td>\n",
       "      <td>16.81</td>\n",
       "      <td>N/a</td>\n",
       "    </tr>\n",
       "    <tr>\n",
       "      <th>41</th>\n",
       "      <td>GL</td>\n",
       "      <td>105.15</td>\n",
       "      <td>122.6000</td>\n",
       "      <td>16.60</td>\n",
       "      <td>N/a</td>\n",
       "    </tr>\n",
       "    <tr>\n",
       "      <th>42</th>\n",
       "      <td>CPRT</td>\n",
       "      <td>51.71</td>\n",
       "      <td>60.1100</td>\n",
       "      <td>16.24</td>\n",
       "      <td>N/a</td>\n",
       "    </tr>\n",
       "    <tr>\n",
       "      <th>43</th>\n",
       "      <td>FOXA</td>\n",
       "      <td>41.71</td>\n",
       "      <td>48.4600</td>\n",
       "      <td>16.18</td>\n",
       "      <td>N/a</td>\n",
       "    </tr>\n",
       "    <tr>\n",
       "      <th>44</th>\n",
       "      <td>AZO</td>\n",
       "      <td>3130.96</td>\n",
       "      <td>3616.6300</td>\n",
       "      <td>15.51</td>\n",
       "      <td>N/a</td>\n",
       "    </tr>\n",
       "    <tr>\n",
       "      <th>45</th>\n",
       "      <td>ABT</td>\n",
       "      <td>114.22</td>\n",
       "      <td>131.8050</td>\n",
       "      <td>15.40</td>\n",
       "      <td>N/a</td>\n",
       "    </tr>\n",
       "    <tr>\n",
       "      <th>46</th>\n",
       "      <td>DG</td>\n",
       "      <td>80.38</td>\n",
       "      <td>92.5900</td>\n",
       "      <td>15.19</td>\n",
       "      <td>N/a</td>\n",
       "    </tr>\n",
       "    <tr>\n",
       "      <th>47</th>\n",
       "      <td>BRK/B</td>\n",
       "      <td>454.01</td>\n",
       "      <td>521.9900</td>\n",
       "      <td>14.97</td>\n",
       "      <td>N/a</td>\n",
       "    </tr>\n",
       "    <tr>\n",
       "      <th>48</th>\n",
       "      <td>NI</td>\n",
       "      <td>34.82</td>\n",
       "      <td>39.8200</td>\n",
       "      <td>14.36</td>\n",
       "      <td>N/a</td>\n",
       "    </tr>\n",
       "    <tr>\n",
       "      <th>49</th>\n",
       "      <td>NEM</td>\n",
       "      <td>48.42</td>\n",
       "      <td>55.2400</td>\n",
       "      <td>14.09</td>\n",
       "      <td>N/a</td>\n",
       "    </tr>\n",
       "  </tbody>\n",
       "</table>\n",
       "</div>"
      ],
      "text/plain": [
       "   Ticker  Price (6 months)  Price (now)  Net Change Number of Shares to Buy\n",
       "0    PLTR             44.86      93.4000      108.20                     N/a\n",
       "1     MCK            507.41     700.7000       38.09                     N/a\n",
       "2     EQT             37.48      51.6100       37.70                     N/a\n",
       "3    VRSN            181.26     247.0700       36.31                     N/a\n",
       "4    TTWO            161.79     214.4400       32.54                     N/a\n",
       "5    PAYC            164.63     216.4200       31.46                     N/a\n",
       "6    NFLX            754.68     979.7050       29.82                     N/a\n",
       "7     TKO            115.25     149.2650       29.51                     N/a\n",
       "8     CNP             29.31      37.5550       28.13                     N/a\n",
       "9     DRI            159.92     202.7700       26.79                     N/a\n",
       "10    EXE             84.79     107.1400       26.36                     N/a\n",
       "11    TPR             50.49      63.7500       26.26                     N/a\n",
       "12   AXON            444.52     560.9735       26.20                     N/a\n",
       "13   CRWD            300.62     378.1600       25.79                     N/a\n",
       "14     PM            129.86     163.2450       25.71                     N/a\n",
       "15      T             21.83      27.3850       25.45                     N/a\n",
       "16    ETR             67.69      84.1500       24.32                     N/a\n",
       "17     KR             57.37      70.9950       23.75                     N/a\n",
       "18    HWM            101.39     124.7550       23.04                     N/a\n",
       "19    CAH            110.89     136.3000       22.91                     N/a\n",
       "20    COR            234.47     287.4600       22.60                     N/a\n",
       "21    RSG            199.83     244.4900       22.35                     N/a\n",
       "22   FTNT             80.34      96.7900       20.48                     N/a\n",
       "23    ROL             46.54      55.8200       19.94                     N/a\n",
       "24    WRB             57.66      69.1531       19.93                     N/a\n",
       "25    CME            220.34     264.0350       19.83                     N/a\n",
       "26    CVS             56.49      67.6600       19.77                     N/a\n",
       "27   FFIV            216.87     259.3400       19.58                     N/a\n",
       "28    EXC             40.07      47.7500       19.17                     N/a\n",
       "29      V            281.73     333.5100       18.38                     N/a\n",
       "30   DLTR             66.45      78.5800       18.25                     N/a\n",
       "31    TPL           1098.01    1297.9350       18.21                     N/a\n",
       "32   GRMN            162.30     191.7100       18.12                     N/a\n",
       "33   DASH            153.88     181.3450       17.85                     N/a\n",
       "34    FOX             38.35      45.0450       17.46                     N/a\n",
       "35     MO             49.71      58.3650       17.41                     N/a\n",
       "36    AJG            282.97     331.2450       17.06                     N/a\n",
       "37    WBA              9.26      10.8363       17.02                     N/a\n",
       "38   GILD             89.00     104.0100       16.87                     N/a\n",
       "39   TMUS            226.36     264.5000       16.85                     N/a\n",
       "40   ORLY           1195.22    1396.1666       16.81                     N/a\n",
       "41     GL            105.15     122.6000       16.60                     N/a\n",
       "42   CPRT             51.71      60.1100       16.24                     N/a\n",
       "43   FOXA             41.71      48.4600       16.18                     N/a\n",
       "44    AZO           3130.96    3616.6300       15.51                     N/a\n",
       "45    ABT            114.22     131.8050       15.40                     N/a\n",
       "46     DG             80.38      92.5900       15.19                     N/a\n",
       "47  BRK/B            454.01     521.9900       14.97                     N/a\n",
       "48     NI             34.82      39.8200       14.36                     N/a\n",
       "49    NEM             48.42      55.2400       14.09                     N/a"
      ]
     },
     "execution_count": 25,
     "metadata": {},
     "output_type": "execute_result"
    }
   ],
   "source": [
    "final_df.reset_index(inplace=True)\n",
    "final_df.drop('index', axis = 1, inplace=True)\n",
    "final_df"
   ]
  },
  {
   "cell_type": "markdown",
   "metadata": {},
   "source": [
    "# Calculating the Number of Shares to Buy"
   ]
  },
  {
   "cell_type": "code",
   "execution_count": 26,
   "metadata": {},
   "outputs": [],
   "source": [
    "def portfolio_input():\n",
    "    global portfolio_size\n",
    "    portfolio_size = input('Enter the size of the porfolio: ')\n",
    "\n",
    "    try:\n",
    "        float(portfolio_size)\n",
    "    except ValueError:\n",
    "        print('Invalid input! \\n Please try again.')\n",
    "        portfolio_size = input('Enter the size of the porfolio: ')\n"
   ]
  },
  {
   "cell_type": "code",
   "execution_count": 27,
   "metadata": {},
   "outputs": [],
   "source": [
    "portfolio_input()"
   ]
  },
  {
   "cell_type": "code",
   "execution_count": 28,
   "metadata": {},
   "outputs": [
    {
     "name": "stdout",
     "output_type": "stream",
     "text": [
      "100000\n"
     ]
    }
   ],
   "source": [
    "print(portfolio_size)"
   ]
  },
  {
   "cell_type": "code",
   "execution_count": 29,
   "metadata": {},
   "outputs": [
    {
     "data": {
      "text/plain": [
       "2000.0"
      ]
     },
     "execution_count": 29,
     "metadata": {},
     "output_type": "execute_result"
    }
   ],
   "source": [
    "position_size = float(portfolio_size) / len(final_df.index)\n",
    "position_size"
   ]
  },
  {
   "cell_type": "code",
   "execution_count": 30,
   "metadata": {},
   "outputs": [],
   "source": [
    "for i in range(0, len(final_df)):\n",
    "    final_df.loc[i, 'Number of Shares to Buy'] = math.floor(position_size / final_df.loc[i, 'Price (now)'])"
   ]
  },
  {
   "cell_type": "code",
   "execution_count": 31,
   "metadata": {},
   "outputs": [
    {
     "data": {
      "text/html": [
       "<div>\n",
       "<style scoped>\n",
       "    .dataframe tbody tr th:only-of-type {\n",
       "        vertical-align: middle;\n",
       "    }\n",
       "\n",
       "    .dataframe tbody tr th {\n",
       "        vertical-align: top;\n",
       "    }\n",
       "\n",
       "    .dataframe thead th {\n",
       "        text-align: right;\n",
       "    }\n",
       "</style>\n",
       "<table border=\"1\" class=\"dataframe\">\n",
       "  <thead>\n",
       "    <tr style=\"text-align: right;\">\n",
       "      <th></th>\n",
       "      <th>Ticker</th>\n",
       "      <th>Price (6 months)</th>\n",
       "      <th>Price (now)</th>\n",
       "      <th>Net Change</th>\n",
       "      <th>Number of Shares to Buy</th>\n",
       "    </tr>\n",
       "  </thead>\n",
       "  <tbody>\n",
       "    <tr>\n",
       "      <th>0</th>\n",
       "      <td>PLTR</td>\n",
       "      <td>44.86</td>\n",
       "      <td>93.40</td>\n",
       "      <td>108.20</td>\n",
       "      <td>21</td>\n",
       "    </tr>\n",
       "    <tr>\n",
       "      <th>1</th>\n",
       "      <td>MCK</td>\n",
       "      <td>507.41</td>\n",
       "      <td>700.70</td>\n",
       "      <td>38.09</td>\n",
       "      <td>2</td>\n",
       "    </tr>\n",
       "    <tr>\n",
       "      <th>2</th>\n",
       "      <td>EQT</td>\n",
       "      <td>37.48</td>\n",
       "      <td>51.61</td>\n",
       "      <td>37.70</td>\n",
       "      <td>38</td>\n",
       "    </tr>\n",
       "    <tr>\n",
       "      <th>3</th>\n",
       "      <td>VRSN</td>\n",
       "      <td>181.26</td>\n",
       "      <td>247.07</td>\n",
       "      <td>36.31</td>\n",
       "      <td>8</td>\n",
       "    </tr>\n",
       "    <tr>\n",
       "      <th>4</th>\n",
       "      <td>TTWO</td>\n",
       "      <td>161.79</td>\n",
       "      <td>214.44</td>\n",
       "      <td>32.54</td>\n",
       "      <td>9</td>\n",
       "    </tr>\n",
       "  </tbody>\n",
       "</table>\n",
       "</div>"
      ],
      "text/plain": [
       "  Ticker  Price (6 months)  Price (now)  Net Change Number of Shares to Buy\n",
       "0   PLTR             44.86        93.40      108.20                      21\n",
       "1    MCK            507.41       700.70       38.09                       2\n",
       "2    EQT             37.48        51.61       37.70                      38\n",
       "3   VRSN            181.26       247.07       36.31                       8\n",
       "4   TTWO            161.79       214.44       32.54                       9"
      ]
     },
     "execution_count": 31,
     "metadata": {},
     "output_type": "execute_result"
    }
   ],
   "source": [
    "final_df.head()"
   ]
  },
  {
   "cell_type": "markdown",
   "metadata": {},
   "source": [
    "# Exporting to Excel"
   ]
  },
  {
   "cell_type": "code",
   "execution_count": 47,
   "metadata": {},
   "outputs": [],
   "source": [
    "writer = pd.ExcelWriter('recommended_trades.xlsx', engine='xlsxwriter')\n",
    "\n",
    "final_df.to_excel(writer, sheet_name='Recommended Trades', index=False)"
   ]
  },
  {
   "cell_type": "code",
   "execution_count": 48,
   "metadata": {},
   "outputs": [],
   "source": [
    "background_color = '#0a0a23'\n",
    "font_color = '#ffffff'\n",
    "\n",
    "string_format = writer.book.add_format(\n",
    "    {\n",
    "        'font_color': font_color,\n",
    "        'bg_color': background_color,\n",
    "        'border': 1\n",
    "    }\n",
    ")"
   ]
  },
  {
   "cell_type": "code",
   "execution_count": 49,
   "metadata": {},
   "outputs": [],
   "source": [
    "dollar_format = writer.book.add_format(\n",
    "    {\n",
    "        'num_format': '$0.00',\n",
    "        'font_color': font_color,\n",
    "        'bg_color': background_color,\n",
    "        'border': 1\n",
    "    }\n",
    ")"
   ]
  },
  {
   "cell_type": "code",
   "execution_count": 50,
   "metadata": {},
   "outputs": [],
   "source": [
    "percent_format = writer.book.add_format(\n",
    "    {\n",
    "        'num_format': '0.00%',\n",
    "        'font_color': font_color,\n",
    "        'bg_color': background_color,\n",
    "        'border': 1\n",
    "    }\n",
    ")"
   ]
  },
  {
   "cell_type": "code",
   "execution_count": 51,
   "metadata": {},
   "outputs": [],
   "source": [
    "integer_format = writer.book.add_format(\n",
    "    {\n",
    "        'num_format': '0',\n",
    "        'font_color': font_color,\n",
    "        'bg_color': background_color,\n",
    "        'border': 1\n",
    "    }\n",
    ")"
   ]
  },
  {
   "cell_type": "code",
   "execution_count": 52,
   "metadata": {},
   "outputs": [],
   "source": [
    "column_formats = {\n",
    "    'A': ['Ticker', string_format],\n",
    "    'B': ['Price (6 months)', dollar_format],\n",
    "    'C': ['Price (now)', dollar_format],\n",
    "    'D': ['Net Change', percent_format],\n",
    "    'E': ['Number of Shares to Buy', integer_format]\n",
    "}"
   ]
  },
  {
   "cell_type": "code",
   "execution_count": 53,
   "metadata": {},
   "outputs": [],
   "source": [
    "for column in column_formats.keys():\n",
    "    writer.sheets['Recommended Trades'].set_column(f'{column}:{column}', 20, column_formats[column][1])\n",
    "    writer.sheets['Recommended Trades'].write(f'{column}1', column_formats[column][0], column_formats[column][1])"
   ]
  },
  {
   "cell_type": "code",
   "execution_count": 54,
   "metadata": {},
   "outputs": [],
   "source": [
    "writer.close()"
   ]
  }
 ],
 "metadata": {
  "kernelspec": {
   "display_name": "base",
   "language": "python",
   "name": "python3"
  },
  "language_info": {
   "codemirror_mode": {
    "name": "ipython",
    "version": 3
   },
   "file_extension": ".py",
   "mimetype": "text/x-python",
   "name": "python",
   "nbconvert_exporter": "python",
   "pygments_lexer": "ipython3",
   "version": "3.12.7"
  }
 },
 "nbformat": 4,
 "nbformat_minor": 2
}
