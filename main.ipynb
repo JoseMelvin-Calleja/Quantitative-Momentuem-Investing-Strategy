{
 "cells": [
  {
   "cell_type": "markdown",
   "metadata": {},
   "source": [
    "# Importing Dependencies"
   ]
  },
  {
   "cell_type": "code",
   "execution_count": 9,
   "metadata": {},
   "outputs": [],
   "source": [
    "import pandas as pd\n",
    "import numpy as np\n",
    "import xlsxwriter\n",
    "import math\n",
    "import pandas_datareader.data as web\n",
    "import schwabdev\n",
    "from scipy import stats\n",
    "from datetime import datetime\n",
    "from dateutil.relativedelta import relativedelta\n",
    "%matplotlib inline"
   ]
  },
  {
   "cell_type": "markdown",
   "metadata": {},
   "source": [
    "# Momentum Investing\n",
    "- the strategy in investing in the stocks that increased in price the most"
   ]
  },
  {
   "cell_type": "markdown",
   "metadata": {},
   "source": [
    "# Collecting S&P 500 constituents"
   ]
  },
  {
   "cell_type": "code",
   "execution_count": 2,
   "metadata": {},
   "outputs": [],
   "source": [
    "sp_url = 'https://en.wikipedia.org/wiki/List_of_S%26P_500_companies'\n",
    "sp500_constituents = pd.read_html(sp_url, header=0)[0]"
   ]
  },
  {
   "cell_type": "code",
   "execution_count": 3,
   "metadata": {},
   "outputs": [
    {
     "name": "stdout",
     "output_type": "stream",
     "text": [
      "<class 'pandas.core.frame.DataFrame'>\n",
      "RangeIndex: 503 entries, 0 to 502\n",
      "Data columns (total 8 columns):\n",
      " #   Column                 Non-Null Count  Dtype \n",
      "---  ------                 --------------  ----- \n",
      " 0   Symbol                 503 non-null    object\n",
      " 1   Security               503 non-null    object\n",
      " 2   GICS Sector            503 non-null    object\n",
      " 3   GICS Sub-Industry      503 non-null    object\n",
      " 4   Headquarters Location  503 non-null    object\n",
      " 5   Date added             503 non-null    object\n",
      " 6   CIK                    503 non-null    int64 \n",
      " 7   Founded                503 non-null    object\n",
      "dtypes: int64(1), object(7)\n",
      "memory usage: 31.6+ KB\n"
     ]
    }
   ],
   "source": [
    "sp500_constituents.info()"
   ]
  },
  {
   "cell_type": "code",
   "execution_count": 5,
   "metadata": {},
   "outputs": [],
   "source": [
    "sp500_constituents = sp500_constituents['Symbol'].to_list()"
   ]
  },
  {
   "cell_type": "markdown",
   "metadata": {},
   "source": [
    "### changing format to match Schwab's"
   ]
  },
  {
   "cell_type": "code",
   "execution_count": 6,
   "metadata": {},
   "outputs": [],
   "source": [
    "sp500_constituents = [x.replace('.', '/') for x in sp500_constituents]"
   ]
  },
  {
   "cell_type": "markdown",
   "metadata": {},
   "source": [
    "# Setting up Schwab API"
   ]
  },
  {
   "cell_type": "code",
   "execution_count": 4,
   "metadata": {},
   "outputs": [],
   "source": [
    "from key import api_key, api_secret"
   ]
  },
  {
   "cell_type": "code",
   "execution_count": 48,
   "metadata": {},
   "outputs": [],
   "source": [
    "client = schwabdev.Client(app_key=api_key, app_secret=api_secret, capture_callback=False)"
   ]
  },
  {
   "cell_type": "markdown",
   "metadata": {},
   "source": [
    "# Creating Datafram\n",
    "- Basing this strategy in a 6 month change"
   ]
  },
  {
   "cell_type": "code",
   "execution_count": 22,
   "metadata": {},
   "outputs": [],
   "source": [
    "my_columns = ['Ticker', 'Price (6 months)', 'Price (now)', 'Net Change', 'Number of Shares to Buy']"
   ]
  },
  {
   "cell_type": "code",
   "execution_count": 10,
   "metadata": {},
   "outputs": [],
   "source": [
    "today = datetime.today()\n",
    "six_months = today - relativedelta(months = 6)"
   ]
  },
  {
   "cell_type": "code",
   "execution_count": 49,
   "metadata": {},
   "outputs": [],
   "source": [
    "entries = []\n",
    "for symbol in sp500_constituents:\n",
    "    price_history = client.price_history(symbol, periodType='month', period = 6, startDate=six_months, endDate=today).json()\n",
    "    price_now = price_history['candles'][-1]['close']\n",
    "    price_6_months = price_history['candles'][0]['close']\n",
    "    net_change = round(((price_now - price_6_months)/ price_6_months) * 100, 2)\n",
    "    entries.append(\n",
    "        [\n",
    "            symbol,\n",
    "            price_6_months,\n",
    "            price_now,\n",
    "            net_change,\n",
    "            'N/a'\n",
    "        ]\n",
    "    )"
   ]
  },
  {
   "cell_type": "code",
   "execution_count": 50,
   "metadata": {},
   "outputs": [],
   "source": [
    "momentum_df = pd.DataFrame(entries, columns=my_columns)"
   ]
  },
  {
   "cell_type": "markdown",
   "metadata": {},
   "source": [
    "### Sorting by biggest increases"
   ]
  },
  {
   "cell_type": "code",
   "execution_count": 51,
   "metadata": {},
   "outputs": [],
   "source": [
    "momentum_df.sort_values(by='Net Change', ascending=False, inplace=True)"
   ]
  },
  {
   "cell_type": "code",
   "execution_count": 52,
   "metadata": {},
   "outputs": [
    {
     "data": {
      "text/html": [
       "<div>\n",
       "<style scoped>\n",
       "    .dataframe tbody tr th:only-of-type {\n",
       "        vertical-align: middle;\n",
       "    }\n",
       "\n",
       "    .dataframe tbody tr th {\n",
       "        vertical-align: top;\n",
       "    }\n",
       "\n",
       "    .dataframe thead th {\n",
       "        text-align: right;\n",
       "    }\n",
       "</style>\n",
       "<table border=\"1\" class=\"dataframe\">\n",
       "  <thead>\n",
       "    <tr style=\"text-align: right;\">\n",
       "      <th></th>\n",
       "      <th>Ticker</th>\n",
       "      <th>Price (6 months)</th>\n",
       "      <th>Price (now)</th>\n",
       "      <th>Net Change</th>\n",
       "      <th>Number of Shares to Buy</th>\n",
       "    </tr>\n",
       "  </thead>\n",
       "  <tbody>\n",
       "    <tr>\n",
       "      <th>360</th>\n",
       "      <td>PLTR</td>\n",
       "      <td>44.86</td>\n",
       "      <td>92.770</td>\n",
       "      <td>106.80</td>\n",
       "      <td>N/a</td>\n",
       "    </tr>\n",
       "    <tr>\n",
       "      <th>171</th>\n",
       "      <td>EQT</td>\n",
       "      <td>37.48</td>\n",
       "      <td>51.890</td>\n",
       "      <td>38.45</td>\n",
       "      <td>N/a</td>\n",
       "    </tr>\n",
       "    <tr>\n",
       "      <th>468</th>\n",
       "      <td>VRSN</td>\n",
       "      <td>181.26</td>\n",
       "      <td>249.185</td>\n",
       "      <td>37.47</td>\n",
       "      <td>N/a</td>\n",
       "    </tr>\n",
       "    <tr>\n",
       "      <th>308</th>\n",
       "      <td>MCK</td>\n",
       "      <td>507.41</td>\n",
       "      <td>695.040</td>\n",
       "      <td>36.98</td>\n",
       "      <td>N/a</td>\n",
       "    </tr>\n",
       "    <tr>\n",
       "      <th>365</th>\n",
       "      <td>PAYC</td>\n",
       "      <td>164.63</td>\n",
       "      <td>217.980</td>\n",
       "      <td>32.41</td>\n",
       "      <td>N/a</td>\n",
       "    </tr>\n",
       "  </tbody>\n",
       "</table>\n",
       "</div>"
      ],
      "text/plain": [
       "    Ticker  Price (6 months)  Price (now)  Net Change Number of Shares to Buy\n",
       "360   PLTR             44.86       92.770      106.80                     N/a\n",
       "171    EQT             37.48       51.890       38.45                     N/a\n",
       "468   VRSN            181.26      249.185       37.47                     N/a\n",
       "308    MCK            507.41      695.040       36.98                     N/a\n",
       "365   PAYC            164.63      217.980       32.41                     N/a"
      ]
     },
     "execution_count": 52,
     "metadata": {},
     "output_type": "execute_result"
    }
   ],
   "source": [
    "momentum_df.head()"
   ]
  },
  {
   "cell_type": "markdown",
   "metadata": {},
   "source": [
    "# Creating Excel Output with all data"
   ]
  },
  {
   "cell_type": "code",
   "execution_count": 53,
   "metadata": {},
   "outputs": [],
   "source": [
    "momentum_df_copy = momentum_df.copy()"
   ]
  },
  {
   "cell_type": "code",
   "execution_count": 54,
   "metadata": {},
   "outputs": [
    {
     "data": {
      "text/html": [
       "<div>\n",
       "<style scoped>\n",
       "    .dataframe tbody tr th:only-of-type {\n",
       "        vertical-align: middle;\n",
       "    }\n",
       "\n",
       "    .dataframe tbody tr th {\n",
       "        vertical-align: top;\n",
       "    }\n",
       "\n",
       "    .dataframe thead th {\n",
       "        text-align: right;\n",
       "    }\n",
       "</style>\n",
       "<table border=\"1\" class=\"dataframe\">\n",
       "  <thead>\n",
       "    <tr style=\"text-align: right;\">\n",
       "      <th></th>\n",
       "      <th>Ticker</th>\n",
       "      <th>Price (6 months)</th>\n",
       "      <th>Price (now)</th>\n",
       "      <th>Net Change</th>\n",
       "    </tr>\n",
       "  </thead>\n",
       "  <tbody>\n",
       "    <tr>\n",
       "      <th>360</th>\n",
       "      <td>PLTR</td>\n",
       "      <td>44.86</td>\n",
       "      <td>92.770</td>\n",
       "      <td>106.80</td>\n",
       "    </tr>\n",
       "    <tr>\n",
       "      <th>171</th>\n",
       "      <td>EQT</td>\n",
       "      <td>37.48</td>\n",
       "      <td>51.890</td>\n",
       "      <td>38.45</td>\n",
       "    </tr>\n",
       "    <tr>\n",
       "      <th>468</th>\n",
       "      <td>VRSN</td>\n",
       "      <td>181.26</td>\n",
       "      <td>249.185</td>\n",
       "      <td>37.47</td>\n",
       "    </tr>\n",
       "    <tr>\n",
       "      <th>308</th>\n",
       "      <td>MCK</td>\n",
       "      <td>507.41</td>\n",
       "      <td>695.040</td>\n",
       "      <td>36.98</td>\n",
       "    </tr>\n",
       "    <tr>\n",
       "      <th>365</th>\n",
       "      <td>PAYC</td>\n",
       "      <td>164.63</td>\n",
       "      <td>217.980</td>\n",
       "      <td>32.41</td>\n",
       "    </tr>\n",
       "  </tbody>\n",
       "</table>\n",
       "</div>"
      ],
      "text/plain": [
       "    Ticker  Price (6 months)  Price (now)  Net Change\n",
       "360   PLTR             44.86       92.770      106.80\n",
       "171    EQT             37.48       51.890       38.45\n",
       "468   VRSN            181.26      249.185       37.47\n",
       "308    MCK            507.41      695.040       36.98\n",
       "365   PAYC            164.63      217.980       32.41"
      ]
     },
     "execution_count": 54,
     "metadata": {},
     "output_type": "execute_result"
    }
   ],
   "source": [
    "momentum_df_copy = momentum_df_copy.drop('Number of Shares to Buy', axis=1)\n",
    "momentum_df_copy.head()"
   ]
  },
  {
   "cell_type": "code",
   "execution_count": 150,
   "metadata": {},
   "outputs": [],
   "source": [
    "writer = pd.ExcelWriter('total_data.xlsx', engine='xlsxwriter')\n",
    "\n",
    "momentum_df_copy.to_excel(writer, sheet_name='Movers', index=False)"
   ]
  },
  {
   "cell_type": "markdown",
   "metadata": {},
   "source": [
    "### Formatting"
   ]
  },
  {
   "cell_type": "code",
   "execution_count": 151,
   "metadata": {},
   "outputs": [],
   "source": [
    "background_color = '#0a0a23'\n",
    "font_color = '#ffffff'\n",
    "\n",
    "string_format = writer.book.add_format(\n",
    "    {\n",
    "        'font_color': font_color,\n",
    "        'bg_color': background_color,\n",
    "        'border': 1\n",
    "    }\n",
    ")"
   ]
  },
  {
   "cell_type": "code",
   "execution_count": 152,
   "metadata": {},
   "outputs": [],
   "source": [
    "dollar_format = writer.book.add_format(\n",
    "    {\n",
    "        'num_format': '$0.00',\n",
    "        'font_color': font_color,\n",
    "        'bg_color': background_color,\n",
    "        'border': 1\n",
    "    }\n",
    ")"
   ]
  },
  {
   "cell_type": "code",
   "execution_count": 153,
   "metadata": {},
   "outputs": [],
   "source": [
    "percent_format = writer.book.add_format(\n",
    "    {\n",
    "        'num_format': '0.0%',\n",
    "        'font_color': font_color,\n",
    "        'bg_color': background_color,\n",
    "        'border': 1\n",
    "    }\n",
    ")"
   ]
  },
  {
   "cell_type": "markdown",
   "metadata": {},
   "source": [
    "### Applying Formats"
   ]
  },
  {
   "cell_type": "code",
   "execution_count": 154,
   "metadata": {},
   "outputs": [],
   "source": [
    "column_formats = {\n",
    "    'A': ['Ticker', string_format],\n",
    "    'B': ['Price (6 months)', dollar_format],\n",
    "    'C': ['Price (now)', dollar_format],\n",
    "    'D': ['Net Change', percent_format]\n",
    "}"
   ]
  },
  {
   "cell_type": "code",
   "execution_count": 155,
   "metadata": {},
   "outputs": [],
   "source": [
    "for column in column_formats.keys():\n",
    "    writer.sheets['Movers'].set_column(f'{column}:{column}', 20, column_formats[column][1])\n",
    "    writer.sheets['Movers'].write(f'{column}1', column_formats[column][0], column_formats[column][1])\n",
    "    "
   ]
  },
  {
   "cell_type": "code",
   "execution_count": 156,
   "metadata": {},
   "outputs": [],
   "source": [
    "writer.close()"
   ]
  },
  {
   "cell_type": "markdown",
   "metadata": {},
   "source": [
    "# Keeping Top 50 Movers"
   ]
  },
  {
   "cell_type": "code",
   "execution_count": 138,
   "metadata": {},
   "outputs": [],
   "source": [
    "final_df = momentum_df.copy()"
   ]
  },
  {
   "cell_type": "code",
   "execution_count": 139,
   "metadata": {},
   "outputs": [
    {
     "name": "stdout",
     "output_type": "stream",
     "text": [
      "<class 'pandas.core.frame.DataFrame'>\n",
      "Index: 50 entries, 360 to 488\n",
      "Data columns (total 5 columns):\n",
      " #   Column                   Non-Null Count  Dtype  \n",
      "---  ------                   --------------  -----  \n",
      " 0   Ticker                   50 non-null     object \n",
      " 1   Price (6 months)         50 non-null     float64\n",
      " 2   Price (now)              50 non-null     float64\n",
      " 3   Net Change               50 non-null     float64\n",
      " 4   Number of Shares to Buy  50 non-null     object \n",
      "dtypes: float64(3), object(2)\n",
      "memory usage: 2.3+ KB\n"
     ]
    }
   ],
   "source": [
    "final_df = final_df.head(50)\n",
    "final_df.info()\n"
   ]
  },
  {
   "cell_type": "code",
   "execution_count": 140,
   "metadata": {},
   "outputs": [
    {
     "data": {
      "text/html": [
       "<div>\n",
       "<style scoped>\n",
       "    .dataframe tbody tr th:only-of-type {\n",
       "        vertical-align: middle;\n",
       "    }\n",
       "\n",
       "    .dataframe tbody tr th {\n",
       "        vertical-align: top;\n",
       "    }\n",
       "\n",
       "    .dataframe thead th {\n",
       "        text-align: right;\n",
       "    }\n",
       "</style>\n",
       "<table border=\"1\" class=\"dataframe\">\n",
       "  <thead>\n",
       "    <tr style=\"text-align: right;\">\n",
       "      <th></th>\n",
       "      <th>Ticker</th>\n",
       "      <th>Price (6 months)</th>\n",
       "      <th>Price (now)</th>\n",
       "      <th>Net Change</th>\n",
       "      <th>Number of Shares to Buy</th>\n",
       "    </tr>\n",
       "  </thead>\n",
       "  <tbody>\n",
       "    <tr>\n",
       "      <th>0</th>\n",
       "      <td>PLTR</td>\n",
       "      <td>44.86</td>\n",
       "      <td>92.7700</td>\n",
       "      <td>106.80</td>\n",
       "      <td>N/a</td>\n",
       "    </tr>\n",
       "    <tr>\n",
       "      <th>1</th>\n",
       "      <td>EQT</td>\n",
       "      <td>37.48</td>\n",
       "      <td>51.8900</td>\n",
       "      <td>38.45</td>\n",
       "      <td>N/a</td>\n",
       "    </tr>\n",
       "    <tr>\n",
       "      <th>2</th>\n",
       "      <td>VRSN</td>\n",
       "      <td>181.26</td>\n",
       "      <td>249.1850</td>\n",
       "      <td>37.47</td>\n",
       "      <td>N/a</td>\n",
       "    </tr>\n",
       "    <tr>\n",
       "      <th>3</th>\n",
       "      <td>MCK</td>\n",
       "      <td>507.41</td>\n",
       "      <td>695.0400</td>\n",
       "      <td>36.98</td>\n",
       "      <td>N/a</td>\n",
       "    </tr>\n",
       "    <tr>\n",
       "      <th>4</th>\n",
       "      <td>PAYC</td>\n",
       "      <td>164.63</td>\n",
       "      <td>217.9800</td>\n",
       "      <td>32.41</td>\n",
       "      <td>N/a</td>\n",
       "    </tr>\n",
       "    <tr>\n",
       "      <th>5</th>\n",
       "      <td>TTWO</td>\n",
       "      <td>161.79</td>\n",
       "      <td>213.9100</td>\n",
       "      <td>32.21</td>\n",
       "      <td>N/a</td>\n",
       "    </tr>\n",
       "    <tr>\n",
       "      <th>6</th>\n",
       "      <td>TKO</td>\n",
       "      <td>115.25</td>\n",
       "      <td>150.5200</td>\n",
       "      <td>30.60</td>\n",
       "      <td>N/a</td>\n",
       "    </tr>\n",
       "    <tr>\n",
       "      <th>7</th>\n",
       "      <td>AXON</td>\n",
       "      <td>444.52</td>\n",
       "      <td>577.8400</td>\n",
       "      <td>29.99</td>\n",
       "      <td>N/a</td>\n",
       "    </tr>\n",
       "    <tr>\n",
       "      <th>8</th>\n",
       "      <td>NFLX</td>\n",
       "      <td>754.68</td>\n",
       "      <td>975.1212</td>\n",
       "      <td>29.21</td>\n",
       "      <td>N/a</td>\n",
       "    </tr>\n",
       "    <tr>\n",
       "      <th>9</th>\n",
       "      <td>CRWD</td>\n",
       "      <td>300.62</td>\n",
       "      <td>388.2000</td>\n",
       "      <td>29.13</td>\n",
       "      <td>N/a</td>\n",
       "    </tr>\n",
       "    <tr>\n",
       "      <th>10</th>\n",
       "      <td>CNP</td>\n",
       "      <td>29.31</td>\n",
       "      <td>37.1700</td>\n",
       "      <td>26.82</td>\n",
       "      <td>N/a</td>\n",
       "    </tr>\n",
       "    <tr>\n",
       "      <th>11</th>\n",
       "      <td>T</td>\n",
       "      <td>21.83</td>\n",
       "      <td>27.4400</td>\n",
       "      <td>25.70</td>\n",
       "      <td>N/a</td>\n",
       "    </tr>\n",
       "    <tr>\n",
       "      <th>12</th>\n",
       "      <td>TPR</td>\n",
       "      <td>50.49</td>\n",
       "      <td>63.3950</td>\n",
       "      <td>25.56</td>\n",
       "      <td>N/a</td>\n",
       "    </tr>\n",
       "    <tr>\n",
       "      <th>13</th>\n",
       "      <td>EXE</td>\n",
       "      <td>84.79</td>\n",
       "      <td>106.2873</td>\n",
       "      <td>25.35</td>\n",
       "      <td>N/a</td>\n",
       "    </tr>\n",
       "    <tr>\n",
       "      <th>14</th>\n",
       "      <td>DRI</td>\n",
       "      <td>159.92</td>\n",
       "      <td>199.9500</td>\n",
       "      <td>25.03</td>\n",
       "      <td>N/a</td>\n",
       "    </tr>\n",
       "    <tr>\n",
       "      <th>15</th>\n",
       "      <td>PM</td>\n",
       "      <td>129.86</td>\n",
       "      <td>160.1750</td>\n",
       "      <td>23.34</td>\n",
       "      <td>N/a</td>\n",
       "    </tr>\n",
       "    <tr>\n",
       "      <th>16</th>\n",
       "      <td>HWM</td>\n",
       "      <td>101.39</td>\n",
       "      <td>124.8350</td>\n",
       "      <td>23.12</td>\n",
       "      <td>N/a</td>\n",
       "    </tr>\n",
       "    <tr>\n",
       "      <th>17</th>\n",
       "      <td>ETR</td>\n",
       "      <td>67.69</td>\n",
       "      <td>83.0450</td>\n",
       "      <td>22.68</td>\n",
       "      <td>N/a</td>\n",
       "    </tr>\n",
       "    <tr>\n",
       "      <th>18</th>\n",
       "      <td>CAH</td>\n",
       "      <td>110.89</td>\n",
       "      <td>135.9650</td>\n",
       "      <td>22.61</td>\n",
       "      <td>N/a</td>\n",
       "    </tr>\n",
       "    <tr>\n",
       "      <th>19</th>\n",
       "      <td>RSG</td>\n",
       "      <td>199.83</td>\n",
       "      <td>244.8600</td>\n",
       "      <td>22.53</td>\n",
       "      <td>N/a</td>\n",
       "    </tr>\n",
       "    <tr>\n",
       "      <th>20</th>\n",
       "      <td>CVS</td>\n",
       "      <td>56.49</td>\n",
       "      <td>69.1900</td>\n",
       "      <td>22.48</td>\n",
       "      <td>N/a</td>\n",
       "    </tr>\n",
       "    <tr>\n",
       "      <th>21</th>\n",
       "      <td>COR</td>\n",
       "      <td>234.47</td>\n",
       "      <td>286.0600</td>\n",
       "      <td>22.00</td>\n",
       "      <td>N/a</td>\n",
       "    </tr>\n",
       "    <tr>\n",
       "      <th>22</th>\n",
       "      <td>FTNT</td>\n",
       "      <td>80.34</td>\n",
       "      <td>97.1500</td>\n",
       "      <td>20.92</td>\n",
       "      <td>N/a</td>\n",
       "    </tr>\n",
       "    <tr>\n",
       "      <th>23</th>\n",
       "      <td>KR</td>\n",
       "      <td>57.37</td>\n",
       "      <td>69.3600</td>\n",
       "      <td>20.90</td>\n",
       "      <td>N/a</td>\n",
       "    </tr>\n",
       "    <tr>\n",
       "      <th>24</th>\n",
       "      <td>FFIV</td>\n",
       "      <td>216.87</td>\n",
       "      <td>262.0400</td>\n",
       "      <td>20.83</td>\n",
       "      <td>N/a</td>\n",
       "    </tr>\n",
       "    <tr>\n",
       "      <th>25</th>\n",
       "      <td>CME</td>\n",
       "      <td>220.34</td>\n",
       "      <td>264.6300</td>\n",
       "      <td>20.10</td>\n",
       "      <td>N/a</td>\n",
       "    </tr>\n",
       "    <tr>\n",
       "      <th>26</th>\n",
       "      <td>WRB</td>\n",
       "      <td>57.66</td>\n",
       "      <td>69.1700</td>\n",
       "      <td>19.96</td>\n",
       "      <td>N/a</td>\n",
       "    </tr>\n",
       "    <tr>\n",
       "      <th>27</th>\n",
       "      <td>GILD</td>\n",
       "      <td>89.00</td>\n",
       "      <td>106.0700</td>\n",
       "      <td>19.18</td>\n",
       "      <td>N/a</td>\n",
       "    </tr>\n",
       "    <tr>\n",
       "      <th>28</th>\n",
       "      <td>V</td>\n",
       "      <td>281.73</td>\n",
       "      <td>335.4800</td>\n",
       "      <td>19.08</td>\n",
       "      <td>N/a</td>\n",
       "    </tr>\n",
       "    <tr>\n",
       "      <th>29</th>\n",
       "      <td>ROL</td>\n",
       "      <td>46.54</td>\n",
       "      <td>55.4150</td>\n",
       "      <td>19.07</td>\n",
       "      <td>N/a</td>\n",
       "    </tr>\n",
       "    <tr>\n",
       "      <th>30</th>\n",
       "      <td>AJG</td>\n",
       "      <td>282.97</td>\n",
       "      <td>335.3550</td>\n",
       "      <td>18.51</td>\n",
       "      <td>N/a</td>\n",
       "    </tr>\n",
       "    <tr>\n",
       "      <th>31</th>\n",
       "      <td>DASH</td>\n",
       "      <td>153.88</td>\n",
       "      <td>181.4200</td>\n",
       "      <td>17.90</td>\n",
       "      <td>N/a</td>\n",
       "    </tr>\n",
       "    <tr>\n",
       "      <th>32</th>\n",
       "      <td>FOX</td>\n",
       "      <td>38.35</td>\n",
       "      <td>45.1700</td>\n",
       "      <td>17.78</td>\n",
       "      <td>N/a</td>\n",
       "    </tr>\n",
       "    <tr>\n",
       "      <th>33</th>\n",
       "      <td>GRMN</td>\n",
       "      <td>162.30</td>\n",
       "      <td>191.0000</td>\n",
       "      <td>17.68</td>\n",
       "      <td>N/a</td>\n",
       "    </tr>\n",
       "    <tr>\n",
       "      <th>34</th>\n",
       "      <td>TPL</td>\n",
       "      <td>1098.01</td>\n",
       "      <td>1290.0000</td>\n",
       "      <td>17.49</td>\n",
       "      <td>N/a</td>\n",
       "    </tr>\n",
       "    <tr>\n",
       "      <th>35</th>\n",
       "      <td>EXC</td>\n",
       "      <td>40.07</td>\n",
       "      <td>47.0472</td>\n",
       "      <td>17.41</td>\n",
       "      <td>N/a</td>\n",
       "    </tr>\n",
       "    <tr>\n",
       "      <th>36</th>\n",
       "      <td>WBA</td>\n",
       "      <td>9.26</td>\n",
       "      <td>10.8650</td>\n",
       "      <td>17.33</td>\n",
       "      <td>N/a</td>\n",
       "    </tr>\n",
       "    <tr>\n",
       "      <th>37</th>\n",
       "      <td>FOXA</td>\n",
       "      <td>41.71</td>\n",
       "      <td>48.7250</td>\n",
       "      <td>16.82</td>\n",
       "      <td>N/a</td>\n",
       "    </tr>\n",
       "    <tr>\n",
       "      <th>38</th>\n",
       "      <td>TMUS</td>\n",
       "      <td>226.36</td>\n",
       "      <td>264.1100</td>\n",
       "      <td>16.68</td>\n",
       "      <td>N/a</td>\n",
       "    </tr>\n",
       "    <tr>\n",
       "      <th>39</th>\n",
       "      <td>GL</td>\n",
       "      <td>105.15</td>\n",
       "      <td>122.5200</td>\n",
       "      <td>16.52</td>\n",
       "      <td>N/a</td>\n",
       "    </tr>\n",
       "    <tr>\n",
       "      <th>40</th>\n",
       "      <td>MO</td>\n",
       "      <td>49.71</td>\n",
       "      <td>57.8800</td>\n",
       "      <td>16.44</td>\n",
       "      <td>N/a</td>\n",
       "    </tr>\n",
       "    <tr>\n",
       "      <th>41</th>\n",
       "      <td>CPRT</td>\n",
       "      <td>51.71</td>\n",
       "      <td>60.0350</td>\n",
       "      <td>16.10</td>\n",
       "      <td>N/a</td>\n",
       "    </tr>\n",
       "    <tr>\n",
       "      <th>42</th>\n",
       "      <td>NEM</td>\n",
       "      <td>48.42</td>\n",
       "      <td>56.1250</td>\n",
       "      <td>15.91</td>\n",
       "      <td>N/a</td>\n",
       "    </tr>\n",
       "    <tr>\n",
       "      <th>43</th>\n",
       "      <td>BRO</td>\n",
       "      <td>103.98</td>\n",
       "      <td>120.2800</td>\n",
       "      <td>15.68</td>\n",
       "      <td>N/a</td>\n",
       "    </tr>\n",
       "    <tr>\n",
       "      <th>44</th>\n",
       "      <td>ORLY</td>\n",
       "      <td>1195.22</td>\n",
       "      <td>1382.6000</td>\n",
       "      <td>15.68</td>\n",
       "      <td>N/a</td>\n",
       "    </tr>\n",
       "    <tr>\n",
       "      <th>45</th>\n",
       "      <td>AZO</td>\n",
       "      <td>3130.96</td>\n",
       "      <td>3615.0300</td>\n",
       "      <td>15.46</td>\n",
       "      <td>N/a</td>\n",
       "    </tr>\n",
       "    <tr>\n",
       "      <th>46</th>\n",
       "      <td>ABT</td>\n",
       "      <td>114.22</td>\n",
       "      <td>131.6050</td>\n",
       "      <td>15.22</td>\n",
       "      <td>N/a</td>\n",
       "    </tr>\n",
       "    <tr>\n",
       "      <th>47</th>\n",
       "      <td>BRK/B</td>\n",
       "      <td>454.01</td>\n",
       "      <td>521.1700</td>\n",
       "      <td>14.79</td>\n",
       "      <td>N/a</td>\n",
       "    </tr>\n",
       "    <tr>\n",
       "      <th>48</th>\n",
       "      <td>PGR</td>\n",
       "      <td>243.78</td>\n",
       "      <td>278.1200</td>\n",
       "      <td>14.09</td>\n",
       "      <td>N/a</td>\n",
       "    </tr>\n",
       "    <tr>\n",
       "      <th>49</th>\n",
       "      <td>WELL</td>\n",
       "      <td>130.20</td>\n",
       "      <td>147.2450</td>\n",
       "      <td>13.09</td>\n",
       "      <td>N/a</td>\n",
       "    </tr>\n",
       "  </tbody>\n",
       "</table>\n",
       "</div>"
      ],
      "text/plain": [
       "   Ticker  Price (6 months)  Price (now)  Net Change Number of Shares to Buy\n",
       "0    PLTR             44.86      92.7700      106.80                     N/a\n",
       "1     EQT             37.48      51.8900       38.45                     N/a\n",
       "2    VRSN            181.26     249.1850       37.47                     N/a\n",
       "3     MCK            507.41     695.0400       36.98                     N/a\n",
       "4    PAYC            164.63     217.9800       32.41                     N/a\n",
       "5    TTWO            161.79     213.9100       32.21                     N/a\n",
       "6     TKO            115.25     150.5200       30.60                     N/a\n",
       "7    AXON            444.52     577.8400       29.99                     N/a\n",
       "8    NFLX            754.68     975.1212       29.21                     N/a\n",
       "9    CRWD            300.62     388.2000       29.13                     N/a\n",
       "10    CNP             29.31      37.1700       26.82                     N/a\n",
       "11      T             21.83      27.4400       25.70                     N/a\n",
       "12    TPR             50.49      63.3950       25.56                     N/a\n",
       "13    EXE             84.79     106.2873       25.35                     N/a\n",
       "14    DRI            159.92     199.9500       25.03                     N/a\n",
       "15     PM            129.86     160.1750       23.34                     N/a\n",
       "16    HWM            101.39     124.8350       23.12                     N/a\n",
       "17    ETR             67.69      83.0450       22.68                     N/a\n",
       "18    CAH            110.89     135.9650       22.61                     N/a\n",
       "19    RSG            199.83     244.8600       22.53                     N/a\n",
       "20    CVS             56.49      69.1900       22.48                     N/a\n",
       "21    COR            234.47     286.0600       22.00                     N/a\n",
       "22   FTNT             80.34      97.1500       20.92                     N/a\n",
       "23     KR             57.37      69.3600       20.90                     N/a\n",
       "24   FFIV            216.87     262.0400       20.83                     N/a\n",
       "25    CME            220.34     264.6300       20.10                     N/a\n",
       "26    WRB             57.66      69.1700       19.96                     N/a\n",
       "27   GILD             89.00     106.0700       19.18                     N/a\n",
       "28      V            281.73     335.4800       19.08                     N/a\n",
       "29    ROL             46.54      55.4150       19.07                     N/a\n",
       "30    AJG            282.97     335.3550       18.51                     N/a\n",
       "31   DASH            153.88     181.4200       17.90                     N/a\n",
       "32    FOX             38.35      45.1700       17.78                     N/a\n",
       "33   GRMN            162.30     191.0000       17.68                     N/a\n",
       "34    TPL           1098.01    1290.0000       17.49                     N/a\n",
       "35    EXC             40.07      47.0472       17.41                     N/a\n",
       "36    WBA              9.26      10.8650       17.33                     N/a\n",
       "37   FOXA             41.71      48.7250       16.82                     N/a\n",
       "38   TMUS            226.36     264.1100       16.68                     N/a\n",
       "39     GL            105.15     122.5200       16.52                     N/a\n",
       "40     MO             49.71      57.8800       16.44                     N/a\n",
       "41   CPRT             51.71      60.0350       16.10                     N/a\n",
       "42    NEM             48.42      56.1250       15.91                     N/a\n",
       "43    BRO            103.98     120.2800       15.68                     N/a\n",
       "44   ORLY           1195.22    1382.6000       15.68                     N/a\n",
       "45    AZO           3130.96    3615.0300       15.46                     N/a\n",
       "46    ABT            114.22     131.6050       15.22                     N/a\n",
       "47  BRK/B            454.01     521.1700       14.79                     N/a\n",
       "48    PGR            243.78     278.1200       14.09                     N/a\n",
       "49   WELL            130.20     147.2450       13.09                     N/a"
      ]
     },
     "execution_count": 140,
     "metadata": {},
     "output_type": "execute_result"
    }
   ],
   "source": [
    "final_df.reset_index(inplace=True)\n",
    "final_df.drop('index', axis = 1, inplace=True)\n",
    "final_df"
   ]
  },
  {
   "cell_type": "markdown",
   "metadata": {},
   "source": [
    "# Calculating the Number of Shares to Buy"
   ]
  },
  {
   "cell_type": "code",
   "execution_count": 141,
   "metadata": {},
   "outputs": [],
   "source": [
    "def portfolio_input():\n",
    "    global portfolio_size\n",
    "    portfolio_size = input('Enter the size of the porfolio: ')\n",
    "\n",
    "    try:\n",
    "        float(portfolio_size)\n",
    "    except ValueError:\n",
    "        print('Invalid input! \\n Please try again.')\n",
    "        portfolio_size = input('Enter the size of the porfolio: ')\n"
   ]
  },
  {
   "cell_type": "code",
   "execution_count": 142,
   "metadata": {},
   "outputs": [],
   "source": [
    "portfolio_input()"
   ]
  },
  {
   "cell_type": "code",
   "execution_count": 143,
   "metadata": {},
   "outputs": [
    {
     "name": "stdout",
     "output_type": "stream",
     "text": [
      "100000\n"
     ]
    }
   ],
   "source": [
    "print(portfolio_size)"
   ]
  },
  {
   "cell_type": "code",
   "execution_count": 144,
   "metadata": {},
   "outputs": [
    {
     "data": {
      "text/plain": [
       "2000.0"
      ]
     },
     "execution_count": 144,
     "metadata": {},
     "output_type": "execute_result"
    }
   ],
   "source": [
    "position_size = float(portfolio_size) / len(final_df.index)\n",
    "position_size"
   ]
  },
  {
   "cell_type": "code",
   "execution_count": 148,
   "metadata": {},
   "outputs": [],
   "source": [
    "for i in range(0, len(final_df)):\n",
    "    final_df.loc[i, 'Number of Shares to Buy'] = math.floor(position_size / final_df.loc[i, 'Price (now)'])"
   ]
  },
  {
   "cell_type": "code",
   "execution_count": 149,
   "metadata": {},
   "outputs": [
    {
     "data": {
      "text/html": [
       "<div>\n",
       "<style scoped>\n",
       "    .dataframe tbody tr th:only-of-type {\n",
       "        vertical-align: middle;\n",
       "    }\n",
       "\n",
       "    .dataframe tbody tr th {\n",
       "        vertical-align: top;\n",
       "    }\n",
       "\n",
       "    .dataframe thead th {\n",
       "        text-align: right;\n",
       "    }\n",
       "</style>\n",
       "<table border=\"1\" class=\"dataframe\">\n",
       "  <thead>\n",
       "    <tr style=\"text-align: right;\">\n",
       "      <th></th>\n",
       "      <th>Ticker</th>\n",
       "      <th>Price (6 months)</th>\n",
       "      <th>Price (now)</th>\n",
       "      <th>Net Change</th>\n",
       "      <th>Number of Shares to Buy</th>\n",
       "    </tr>\n",
       "  </thead>\n",
       "  <tbody>\n",
       "    <tr>\n",
       "      <th>0</th>\n",
       "      <td>PLTR</td>\n",
       "      <td>44.86</td>\n",
       "      <td>92.770</td>\n",
       "      <td>106.80</td>\n",
       "      <td>21</td>\n",
       "    </tr>\n",
       "    <tr>\n",
       "      <th>1</th>\n",
       "      <td>EQT</td>\n",
       "      <td>37.48</td>\n",
       "      <td>51.890</td>\n",
       "      <td>38.45</td>\n",
       "      <td>38</td>\n",
       "    </tr>\n",
       "    <tr>\n",
       "      <th>2</th>\n",
       "      <td>VRSN</td>\n",
       "      <td>181.26</td>\n",
       "      <td>249.185</td>\n",
       "      <td>37.47</td>\n",
       "      <td>8</td>\n",
       "    </tr>\n",
       "    <tr>\n",
       "      <th>3</th>\n",
       "      <td>MCK</td>\n",
       "      <td>507.41</td>\n",
       "      <td>695.040</td>\n",
       "      <td>36.98</td>\n",
       "      <td>2</td>\n",
       "    </tr>\n",
       "    <tr>\n",
       "      <th>4</th>\n",
       "      <td>PAYC</td>\n",
       "      <td>164.63</td>\n",
       "      <td>217.980</td>\n",
       "      <td>32.41</td>\n",
       "      <td>9</td>\n",
       "    </tr>\n",
       "  </tbody>\n",
       "</table>\n",
       "</div>"
      ],
      "text/plain": [
       "  Ticker  Price (6 months)  Price (now)  Net Change Number of Shares to Buy\n",
       "0   PLTR             44.86       92.770      106.80                      21\n",
       "1    EQT             37.48       51.890       38.45                      38\n",
       "2   VRSN            181.26      249.185       37.47                       8\n",
       "3    MCK            507.41      695.040       36.98                       2\n",
       "4   PAYC            164.63      217.980       32.41                       9"
      ]
     },
     "execution_count": 149,
     "metadata": {},
     "output_type": "execute_result"
    }
   ],
   "source": [
    "final_df.head()"
   ]
  },
  {
   "cell_type": "markdown",
   "metadata": {},
   "source": [
    "# Exporting to Excel"
   ]
  },
  {
   "cell_type": "code",
   "execution_count": 161,
   "metadata": {},
   "outputs": [],
   "source": [
    "writer = pd.ExcelWriter('recommended_trades.xlsx', engine='xlsxwriter')\n",
    "\n",
    "final_df.to_excel(writer, sheet_name='Recommended Trades', index=False)"
   ]
  },
  {
   "cell_type": "code",
   "execution_count": 162,
   "metadata": {},
   "outputs": [],
   "source": [
    "integer_format = writer.book.add_format(\n",
    "    {\n",
    "        'num_format': '0',\n",
    "        'font_color': font_color,\n",
    "        'bg_color': background_color,\n",
    "        'border': 1\n",
    "    }\n",
    ")"
   ]
  },
  {
   "cell_type": "code",
   "execution_count": 163,
   "metadata": {},
   "outputs": [],
   "source": [
    "column_formats = {\n",
    "    'A': ['Ticker', string_format],\n",
    "    'B': ['Price (6 months)', dollar_format],\n",
    "    'C': ['Price (now)', dollar_format],\n",
    "    'D': ['Net Change', percent_format],\n",
    "    'E': ['Number of Shares to Buy', integer_format]\n",
    "}"
   ]
  },
  {
   "cell_type": "code",
   "execution_count": 164,
   "metadata": {},
   "outputs": [],
   "source": [
    "for column in column_formats.keys():\n",
    "    writer.sheets['Recommended Trades'].set_column(f'{column}:{column}', 20, column_formats[column][1])\n",
    "    writer.sheets['Recommended Trades'].write(f'{column}1', column_formats[column][0], column_formats[column][1])"
   ]
  },
  {
   "cell_type": "code",
   "execution_count": 165,
   "metadata": {},
   "outputs": [],
   "source": [
    "writer.close()"
   ]
  }
 ],
 "metadata": {
  "kernelspec": {
   "display_name": "base",
   "language": "python",
   "name": "python3"
  },
  "language_info": {
   "codemirror_mode": {
    "name": "ipython",
    "version": 3
   },
   "file_extension": ".py",
   "mimetype": "text/x-python",
   "name": "python",
   "nbconvert_exporter": "python",
   "pygments_lexer": "ipython3",
   "version": "3.12.7"
  }
 },
 "nbformat": 4,
 "nbformat_minor": 2
}
